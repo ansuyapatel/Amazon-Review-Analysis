{
  "cells": [
    {
      "cell_type": "markdown",
      "metadata": {
        "id": "KOf1YTtlQa_8"
      },
      "source": [
        "# 1. Introduction"
      ]
    },
    {
      "cell_type": "markdown",
      "metadata": {
        "id": "agR2AeteQa_9"
      },
      "source": [
        "## 1.1 Source"
      ]
    },
    {
      "cell_type": "markdown",
      "metadata": {
        "id": "0LGfOap2Qa_-"
      },
      "source": [
        "source: https://www.kaggle.com/PromptCloudHQ/amazon-reviews-unlocked-mobile-phones"
      ]
    },
    {
      "cell_type": "markdown",
      "metadata": {
        "id": "fIsHhe8FQa_-"
      },
      "source": [
        "## 1.2 Description of datast"
      ]
    },
    {
      "cell_type": "markdown",
      "metadata": {
        "id": "IOB4xOP-Qa_-"
      },
      "source": [
        "Is it possible to predict the star rating of an Amazon review given the text of that review? We want to try to answer that question using a collection of 400,000 Amazon reviews of unlocked mobile phones as my dataset. \n",
        "\n",
        "The online store Amazon.com gives its users the ability review products in the form of a written review and a star rating between 1-5 stars. In this report, we try to predict the star rating given the written review.\n",
        "To build our model we must complete the following tasks:\n",
        "1. \tDownload and pre-process Amazon.com reviews of unlocked mobile           phones.\n",
        "2. \t Extract features from the reviews.\n",
        "3. \t Train models to predict ratings.\n",
        "4. \tRefine the models.\n",
        "5. \tCompare/contrast final models.\n",
        "6. \tDiscuss further possible improvements."
      ]
    },
    {
      "cell_type": "markdown",
      "metadata": {
        "id": "mstQbDdgQa_-"
      },
      "source": [
        "----| Metric | Description |\n",
        "----|--------|:-------------|\n",
        "----| *Product Name*| Name of The Product |\n",
        "----| *Brand Name*| Manufacturer of the Product |\n",
        "----| *Price*| Price of the Product|\n",
        "----| *Rating*| Rating Given for the product|\n",
        "----| *Reviews*| Review left by the Customer|\n",
        "----| *Review Votes*| Number of People who found the Review Helpful |"
      ]
    },
    {
      "cell_type": "markdown",
      "metadata": {
        "id": "UIWogA4rQa__"
      },
      "source": [
        "## Imports and setup"
      ]
    },
    {
      "cell_type": "code",
      "source": [
        "from google.colab import drive\n",
        "drive.mount('/content/drive')"
      ],
      "metadata": {
        "colab": {
          "base_uri": "https://localhost:8080/"
        },
        "id": "WrZ-xFuCQmtO",
        "outputId": "134d50f5-1454-409e-daff-32bd50711480"
      },
      "execution_count": 1,
      "outputs": [
        {
          "output_type": "stream",
          "name": "stdout",
          "text": [
            "Mounted at /content/drive\n"
          ]
        }
      ]
    },
    {
      "cell_type": "code",
      "source": [
        "# Import libraries\n",
        "import pandas as pd\n",
        "import seaborn as sns\n",
        "from sklearn.model_selection import train_test_split\n",
        "from matplotlib import pyplot as plt\n",
        "from sklearn import tree\n",
        "from sklearn.tree import DecisionTreeClassifier\n",
        "from sklearn.metrics import plot_confusion_matrix\n",
        "from sklearn.metrics import classification_report"
      ],
      "metadata": {
        "id": "YPkyhozdQmjP"
      },
      "execution_count": 2,
      "outputs": []
    },
    {
      "cell_type": "code",
      "source": [
        "# Read data\n",
        "data = pd.read_csv('/content/drive/MyDrive/DL_data/Amazon_Unlocked_Mobile.csv')\n",
        "data"
      ],
      "metadata": {
        "colab": {
          "base_uri": "https://localhost:8080/",
          "height": 424
        },
        "id": "jkpl9_giQmcX",
        "outputId": "8acffd35-4693-4b98-b1bc-72a2dd7d97e6"
      },
      "execution_count": 3,
      "outputs": [
        {
          "output_type": "execute_result",
          "data": {
            "text/plain": [
              "                                             Product Name Brand Name   Price  \\\n",
              "0       \"CLEAR CLEAN ESN\" Sprint EPIC 4G Galaxy SPH-D7...    Samsung  199.99   \n",
              "1       \"CLEAR CLEAN ESN\" Sprint EPIC 4G Galaxy SPH-D7...    Samsung  199.99   \n",
              "2       \"CLEAR CLEAN ESN\" Sprint EPIC 4G Galaxy SPH-D7...    Samsung  199.99   \n",
              "3       \"CLEAR CLEAN ESN\" Sprint EPIC 4G Galaxy SPH-D7...    Samsung  199.99   \n",
              "4       \"CLEAR CLEAN ESN\" Sprint EPIC 4G Galaxy SPH-D7...    Samsung  199.99   \n",
              "...                                                   ...        ...     ...   \n",
              "413835  Samsung Convoy U640 Phone for Verizon Wireless...    Samsung   79.95   \n",
              "413836  Samsung Convoy U640 Phone for Verizon Wireless...    Samsung   79.95   \n",
              "413837  Samsung Convoy U640 Phone for Verizon Wireless...    Samsung   79.95   \n",
              "413838  Samsung Convoy U640 Phone for Verizon Wireless...    Samsung   79.95   \n",
              "413839  Samsung Convoy U640 Phone for Verizon Wireless...    Samsung   79.95   \n",
              "\n",
              "        Rating                                            Reviews  \\\n",
              "0            5  I feel so LUCKY to have found this used (phone...   \n",
              "1            4  nice phone, nice up grade from my pantach revu...   \n",
              "2            5                                       Very pleased   \n",
              "3            4  It works good but it goes slow sometimes but i...   \n",
              "4            4  Great phone to replace my lost phone. The only...   \n",
              "...        ...                                                ...   \n",
              "413835       5                     another great deal great price   \n",
              "413836       3                                                 Ok   \n",
              "413837       5        Passes every drop test onto porcelain tile!   \n",
              "413838       3  I returned it because it did not meet my needs...   \n",
              "413839       4  Only downside is that apparently Verizon no lo...   \n",
              "\n",
              "        Review Votes  \n",
              "0                1.0  \n",
              "1                0.0  \n",
              "2                0.0  \n",
              "3                0.0  \n",
              "4                0.0  \n",
              "...              ...  \n",
              "413835           0.0  \n",
              "413836           0.0  \n",
              "413837           0.0  \n",
              "413838           0.0  \n",
              "413839           0.0  \n",
              "\n",
              "[413840 rows x 6 columns]"
            ],
            "text/html": [
              "\n",
              "  <div id=\"df-2e61e17d-1c7f-4ea4-9c28-eb68cf29b2c6\">\n",
              "    <div class=\"colab-df-container\">\n",
              "      <div>\n",
              "<style scoped>\n",
              "    .dataframe tbody tr th:only-of-type {\n",
              "        vertical-align: middle;\n",
              "    }\n",
              "\n",
              "    .dataframe tbody tr th {\n",
              "        vertical-align: top;\n",
              "    }\n",
              "\n",
              "    .dataframe thead th {\n",
              "        text-align: right;\n",
              "    }\n",
              "</style>\n",
              "<table border=\"1\" class=\"dataframe\">\n",
              "  <thead>\n",
              "    <tr style=\"text-align: right;\">\n",
              "      <th></th>\n",
              "      <th>Product Name</th>\n",
              "      <th>Brand Name</th>\n",
              "      <th>Price</th>\n",
              "      <th>Rating</th>\n",
              "      <th>Reviews</th>\n",
              "      <th>Review Votes</th>\n",
              "    </tr>\n",
              "  </thead>\n",
              "  <tbody>\n",
              "    <tr>\n",
              "      <th>0</th>\n",
              "      <td>\"CLEAR CLEAN ESN\" Sprint EPIC 4G Galaxy SPH-D7...</td>\n",
              "      <td>Samsung</td>\n",
              "      <td>199.99</td>\n",
              "      <td>5</td>\n",
              "      <td>I feel so LUCKY to have found this used (phone...</td>\n",
              "      <td>1.0</td>\n",
              "    </tr>\n",
              "    <tr>\n",
              "      <th>1</th>\n",
              "      <td>\"CLEAR CLEAN ESN\" Sprint EPIC 4G Galaxy SPH-D7...</td>\n",
              "      <td>Samsung</td>\n",
              "      <td>199.99</td>\n",
              "      <td>4</td>\n",
              "      <td>nice phone, nice up grade from my pantach revu...</td>\n",
              "      <td>0.0</td>\n",
              "    </tr>\n",
              "    <tr>\n",
              "      <th>2</th>\n",
              "      <td>\"CLEAR CLEAN ESN\" Sprint EPIC 4G Galaxy SPH-D7...</td>\n",
              "      <td>Samsung</td>\n",
              "      <td>199.99</td>\n",
              "      <td>5</td>\n",
              "      <td>Very pleased</td>\n",
              "      <td>0.0</td>\n",
              "    </tr>\n",
              "    <tr>\n",
              "      <th>3</th>\n",
              "      <td>\"CLEAR CLEAN ESN\" Sprint EPIC 4G Galaxy SPH-D7...</td>\n",
              "      <td>Samsung</td>\n",
              "      <td>199.99</td>\n",
              "      <td>4</td>\n",
              "      <td>It works good but it goes slow sometimes but i...</td>\n",
              "      <td>0.0</td>\n",
              "    </tr>\n",
              "    <tr>\n",
              "      <th>4</th>\n",
              "      <td>\"CLEAR CLEAN ESN\" Sprint EPIC 4G Galaxy SPH-D7...</td>\n",
              "      <td>Samsung</td>\n",
              "      <td>199.99</td>\n",
              "      <td>4</td>\n",
              "      <td>Great phone to replace my lost phone. The only...</td>\n",
              "      <td>0.0</td>\n",
              "    </tr>\n",
              "    <tr>\n",
              "      <th>...</th>\n",
              "      <td>...</td>\n",
              "      <td>...</td>\n",
              "      <td>...</td>\n",
              "      <td>...</td>\n",
              "      <td>...</td>\n",
              "      <td>...</td>\n",
              "    </tr>\n",
              "    <tr>\n",
              "      <th>413835</th>\n",
              "      <td>Samsung Convoy U640 Phone for Verizon Wireless...</td>\n",
              "      <td>Samsung</td>\n",
              "      <td>79.95</td>\n",
              "      <td>5</td>\n",
              "      <td>another great deal great price</td>\n",
              "      <td>0.0</td>\n",
              "    </tr>\n",
              "    <tr>\n",
              "      <th>413836</th>\n",
              "      <td>Samsung Convoy U640 Phone for Verizon Wireless...</td>\n",
              "      <td>Samsung</td>\n",
              "      <td>79.95</td>\n",
              "      <td>3</td>\n",
              "      <td>Ok</td>\n",
              "      <td>0.0</td>\n",
              "    </tr>\n",
              "    <tr>\n",
              "      <th>413837</th>\n",
              "      <td>Samsung Convoy U640 Phone for Verizon Wireless...</td>\n",
              "      <td>Samsung</td>\n",
              "      <td>79.95</td>\n",
              "      <td>5</td>\n",
              "      <td>Passes every drop test onto porcelain tile!</td>\n",
              "      <td>0.0</td>\n",
              "    </tr>\n",
              "    <tr>\n",
              "      <th>413838</th>\n",
              "      <td>Samsung Convoy U640 Phone for Verizon Wireless...</td>\n",
              "      <td>Samsung</td>\n",
              "      <td>79.95</td>\n",
              "      <td>3</td>\n",
              "      <td>I returned it because it did not meet my needs...</td>\n",
              "      <td>0.0</td>\n",
              "    </tr>\n",
              "    <tr>\n",
              "      <th>413839</th>\n",
              "      <td>Samsung Convoy U640 Phone for Verizon Wireless...</td>\n",
              "      <td>Samsung</td>\n",
              "      <td>79.95</td>\n",
              "      <td>4</td>\n",
              "      <td>Only downside is that apparently Verizon no lo...</td>\n",
              "      <td>0.0</td>\n",
              "    </tr>\n",
              "  </tbody>\n",
              "</table>\n",
              "<p>413840 rows × 6 columns</p>\n",
              "</div>\n",
              "      <button class=\"colab-df-convert\" onclick=\"convertToInteractive('df-2e61e17d-1c7f-4ea4-9c28-eb68cf29b2c6')\"\n",
              "              title=\"Convert this dataframe to an interactive table.\"\n",
              "              style=\"display:none;\">\n",
              "        \n",
              "  <svg xmlns=\"http://www.w3.org/2000/svg\" height=\"24px\"viewBox=\"0 0 24 24\"\n",
              "       width=\"24px\">\n",
              "    <path d=\"M0 0h24v24H0V0z\" fill=\"none\"/>\n",
              "    <path d=\"M18.56 5.44l.94 2.06.94-2.06 2.06-.94-2.06-.94-.94-2.06-.94 2.06-2.06.94zm-11 1L8.5 8.5l.94-2.06 2.06-.94-2.06-.94L8.5 2.5l-.94 2.06-2.06.94zm10 10l.94 2.06.94-2.06 2.06-.94-2.06-.94-.94-2.06-.94 2.06-2.06.94z\"/><path d=\"M17.41 7.96l-1.37-1.37c-.4-.4-.92-.59-1.43-.59-.52 0-1.04.2-1.43.59L10.3 9.45l-7.72 7.72c-.78.78-.78 2.05 0 2.83L4 21.41c.39.39.9.59 1.41.59.51 0 1.02-.2 1.41-.59l7.78-7.78 2.81-2.81c.8-.78.8-2.07 0-2.86zM5.41 20L4 18.59l7.72-7.72 1.47 1.35L5.41 20z\"/>\n",
              "  </svg>\n",
              "      </button>\n",
              "      \n",
              "  <style>\n",
              "    .colab-df-container {\n",
              "      display:flex;\n",
              "      flex-wrap:wrap;\n",
              "      gap: 12px;\n",
              "    }\n",
              "\n",
              "    .colab-df-convert {\n",
              "      background-color: #E8F0FE;\n",
              "      border: none;\n",
              "      border-radius: 50%;\n",
              "      cursor: pointer;\n",
              "      display: none;\n",
              "      fill: #1967D2;\n",
              "      height: 32px;\n",
              "      padding: 0 0 0 0;\n",
              "      width: 32px;\n",
              "    }\n",
              "\n",
              "    .colab-df-convert:hover {\n",
              "      background-color: #E2EBFA;\n",
              "      box-shadow: 0px 1px 2px rgba(60, 64, 67, 0.3), 0px 1px 3px 1px rgba(60, 64, 67, 0.15);\n",
              "      fill: #174EA6;\n",
              "    }\n",
              "\n",
              "    [theme=dark] .colab-df-convert {\n",
              "      background-color: #3B4455;\n",
              "      fill: #D2E3FC;\n",
              "    }\n",
              "\n",
              "    [theme=dark] .colab-df-convert:hover {\n",
              "      background-color: #434B5C;\n",
              "      box-shadow: 0px 1px 3px 1px rgba(0, 0, 0, 0.15);\n",
              "      filter: drop-shadow(0px 1px 2px rgba(0, 0, 0, 0.3));\n",
              "      fill: #FFFFFF;\n",
              "    }\n",
              "  </style>\n",
              "\n",
              "      <script>\n",
              "        const buttonEl =\n",
              "          document.querySelector('#df-2e61e17d-1c7f-4ea4-9c28-eb68cf29b2c6 button.colab-df-convert');\n",
              "        buttonEl.style.display =\n",
              "          google.colab.kernel.accessAllowed ? 'block' : 'none';\n",
              "\n",
              "        async function convertToInteractive(key) {\n",
              "          const element = document.querySelector('#df-2e61e17d-1c7f-4ea4-9c28-eb68cf29b2c6');\n",
              "          const dataTable =\n",
              "            await google.colab.kernel.invokeFunction('convertToInteractive',\n",
              "                                                     [key], {});\n",
              "          if (!dataTable) return;\n",
              "\n",
              "          const docLinkHtml = 'Like what you see? Visit the ' +\n",
              "            '<a target=\"_blank\" href=https://colab.research.google.com/notebooks/data_table.ipynb>data table notebook</a>'\n",
              "            + ' to learn more about interactive tables.';\n",
              "          element.innerHTML = '';\n",
              "          dataTable['output_type'] = 'display_data';\n",
              "          await google.colab.output.renderOutput(dataTable, element);\n",
              "          const docLink = document.createElement('div');\n",
              "          docLink.innerHTML = docLinkHtml;\n",
              "          element.appendChild(docLink);\n",
              "        }\n",
              "      </script>\n",
              "    </div>\n",
              "  </div>\n",
              "  "
            ]
          },
          "metadata": {},
          "execution_count": 3
        }
      ]
    },
    {
      "cell_type": "code",
      "execution_count": 4,
      "metadata": {
        "id": "F0B30RvSQbAB"
      },
      "outputs": [],
      "source": [
        "# Print stuff inline\n",
        "%matplotlib inline\n",
        "\n",
        "# Imports\n",
        "import re\n",
        "import warnings\n",
        "\n",
        "import matplotlib.pyplot as plt\n",
        "import numpy as np\n",
        "import pandas as pd\n",
        "from bs4 import BeautifulSoup\n",
        "from IPython.display import display\n",
        "from sklearn import model_selection\n",
        "#from sklearn.cross_validation import train_test_split\n",
        "from sklearn.model_selection import train_test_split\n",
        "\n",
        "from sklearn.feature_extraction.text import TfidfVectorizer\n",
        "from sklearn.model_selection import RandomizedSearchCV\n",
        "from sklearn.model_selection import GridSearchCV\n",
        "from sklearn.model_selection import train_test_split\n",
        "#from sklearn.grid_search import GridSearchCV\n",
        "from sklearn.linear_model import LogisticRegression, SGDClassifier\n",
        "from sklearn.metrics import (accuracy_score, classification_report,\n",
        "                             confusion_matrix, f1_score)\n",
        "from sklearn.naive_bayes import MultinomialNB\n",
        "from wordcloud import STOPWORDS, WordCloud\n",
        "import sys"
      ]
    },
    {
      "cell_type": "markdown",
      "metadata": {
        "id": "-6TyiVzsQbAB"
      },
      "source": [
        "## Helper functions"
      ]
    },
    {
      "cell_type": "code",
      "execution_count": 5,
      "metadata": {
        "id": "taS4ObdaQbAC"
      },
      "outputs": [],
      "source": [
        "# http://stackoverflow.com/questions/33181846/programmatically-convert-pandas-dataframe-to-markdown-table\n",
        "# This function converts a pandas dataframe to a markdown table.\n",
        "def pandas_df_to_markdown_table(df):\n",
        "    fmt = ['---' for i in range(len(df.columns))]\n",
        "    df_fmt = pd.DataFrame([fmt], columns=df.columns)\n",
        "    df_formatted = pd.concat([df_fmt, df])\n",
        "    return \"|\" + df_formatted.to_csv(line_terminator=\"|\\n|\", sep=\"|\", index=False)[:-2]"
      ]
    },
    {
      "cell_type": "markdown",
      "metadata": {
        "id": "XH7TGyW6QbAC"
      },
      "source": [
        "## 1.3 Load dataset"
      ]
    },
    {
      "cell_type": "code",
      "execution_count": 6,
      "metadata": {
        "colab": {
          "base_uri": "https://localhost:8080/"
        },
        "id": "98pO5osRQbAC",
        "outputId": "e454ded1-51de-4e25-c6b1-bf9e9df9be62"
      },
      "outputs": [
        {
          "output_type": "stream",
          "name": "stdout",
          "text": [
            "413840 Amazon mobile phone reviews with 3 features each.\n"
          ]
        }
      ],
      "source": [
        "# Load he data and drop columns we don't care about.\n",
        "try:\n",
        "    data.drop(['Product Name', 'Brand Name','Review Votes'], axis = 1, inplace = True)\n",
        "    print (\"{} Amazon mobile phone reviews with {} features each.\".format(*data.shape))\n",
        "except:\n",
        "    print (\"You need to download the dataset from https://www.kaggle.com/PromptCloudHQ/amazon-reviews-unlocked-mobile-phones\")"
      ]
    },
    {
      "cell_type": "markdown",
      "metadata": {
        "id": "w3ukNYYcQbAC"
      },
      "source": [
        "## 1.4 Data Cleaning and pre processing"
      ]
    },
    {
      "cell_type": "code",
      "execution_count": 7,
      "metadata": {
        "id": "9O_RImUGQbAC"
      },
      "outputs": [],
      "source": [
        "def clean_text(string): \n",
        "    # Turn warnings off because BeautifulSoup give some we don't care about\n",
        "    warnings.filterwarnings('ignore')\n",
        "    \n",
        "    # Remove xml formatting.\n",
        "    review_text = BeautifulSoup(string, \"lxml\").get_text() \n",
        "    \n",
        "    # Turn warnings back on\n",
        "    warnings.resetwarnings()\n",
        "    \n",
        "    # Remove all characters not in the English alphabet\n",
        "    string = re.sub(\"[^a-zA-Z]\",\" \", string)\n",
        "    \n",
        "    # Set all characters to lower case.\n",
        "    string = string.lower()\n",
        "    \n",
        "    return string"
      ]
    },
    {
      "cell_type": "markdown",
      "metadata": {
        "id": "GQyoWoFlQbAD"
      },
      "source": [
        "## 1.5 Handling Missing Values"
      ]
    },
    {
      "cell_type": "code",
      "execution_count": 8,
      "metadata": {
        "id": "GV8X-HKSQbAD"
      },
      "outputs": [],
      "source": [
        "# Sometimes people leave ratings without reviews. We are going to ignore empty reviews.\n",
        "data = data[data['Reviews'].isnull()==False]\n",
        "\n",
        "# Get the ratings column.\n",
        "ratings = data['Rating']\n",
        "\n",
        "# Get the reviews column, and clean the reviews.\n",
        "reviews = map(clean_text, data['Reviews'])"
      ]
    },
    {
      "cell_type": "markdown",
      "metadata": {
        "id": "vaAH72-oQbAD"
      },
      "source": [
        "# 2 Final Problem Description"
      ]
    },
    {
      "cell_type": "markdown",
      "metadata": {
        "id": "Gw9OXWviQbAD"
      },
      "source": [
        "Is it possible to predict the star rating of an Amazon review given the text of that review? We want to try to answer that question using a collection of 400,000 Amazon reviews of unlocked mobile phones as the dataset. We think it is interesting to see if the sentiment of a review can be decided from the text of the review itself.\n",
        "The problem of determining the sentiment of text is not new. Research was done to try to extract sentiment from movie reviews. They tried to predict whether the review was positive or negative based on the text. They found that one of the main difficulties with sentiment extraction is that it requires more understanding of the text than traditional topic-based categorization. Topic-based categorization relies on finding keywords in text, however sentiment can be expressed more subtly."
      ]
    },
    {
      "cell_type": "markdown",
      "metadata": {
        "id": "xwUwgXe1QbAD"
      },
      "source": [
        "# 3 Exploratory Data Analysis"
      ]
    },
    {
      "cell_type": "markdown",
      "metadata": {
        "id": "-xsjpScRQbAD"
      },
      "source": [
        "## 3.1 Visualize your data"
      ]
    },
    {
      "cell_type": "code",
      "execution_count": 9,
      "metadata": {
        "colab": {
          "base_uri": "https://localhost:8080/",
          "height": 206
        },
        "id": "S1b1Ccv0QbAD",
        "outputId": "e64fcfaf-856b-4ef5-b564-49b52efd140d"
      },
      "outputs": [
        {
          "output_type": "execute_result",
          "data": {
            "text/plain": [
              "    Price  Rating                                            Reviews\n",
              "0  199.99       5  I feel so LUCKY to have found this used (phone...\n",
              "1  199.99       4  nice phone, nice up grade from my pantach revu...\n",
              "2  199.99       5                                       Very pleased\n",
              "3  199.99       4  It works good but it goes slow sometimes but i...\n",
              "4  199.99       4  Great phone to replace my lost phone. The only..."
            ],
            "text/html": [
              "\n",
              "  <div id=\"df-cc07b3c6-bd46-4b21-bdce-2a45746dfe78\">\n",
              "    <div class=\"colab-df-container\">\n",
              "      <div>\n",
              "<style scoped>\n",
              "    .dataframe tbody tr th:only-of-type {\n",
              "        vertical-align: middle;\n",
              "    }\n",
              "\n",
              "    .dataframe tbody tr th {\n",
              "        vertical-align: top;\n",
              "    }\n",
              "\n",
              "    .dataframe thead th {\n",
              "        text-align: right;\n",
              "    }\n",
              "</style>\n",
              "<table border=\"1\" class=\"dataframe\">\n",
              "  <thead>\n",
              "    <tr style=\"text-align: right;\">\n",
              "      <th></th>\n",
              "      <th>Price</th>\n",
              "      <th>Rating</th>\n",
              "      <th>Reviews</th>\n",
              "    </tr>\n",
              "  </thead>\n",
              "  <tbody>\n",
              "    <tr>\n",
              "      <th>0</th>\n",
              "      <td>199.99</td>\n",
              "      <td>5</td>\n",
              "      <td>I feel so LUCKY to have found this used (phone...</td>\n",
              "    </tr>\n",
              "    <tr>\n",
              "      <th>1</th>\n",
              "      <td>199.99</td>\n",
              "      <td>4</td>\n",
              "      <td>nice phone, nice up grade from my pantach revu...</td>\n",
              "    </tr>\n",
              "    <tr>\n",
              "      <th>2</th>\n",
              "      <td>199.99</td>\n",
              "      <td>5</td>\n",
              "      <td>Very pleased</td>\n",
              "    </tr>\n",
              "    <tr>\n",
              "      <th>3</th>\n",
              "      <td>199.99</td>\n",
              "      <td>4</td>\n",
              "      <td>It works good but it goes slow sometimes but i...</td>\n",
              "    </tr>\n",
              "    <tr>\n",
              "      <th>4</th>\n",
              "      <td>199.99</td>\n",
              "      <td>4</td>\n",
              "      <td>Great phone to replace my lost phone. The only...</td>\n",
              "    </tr>\n",
              "  </tbody>\n",
              "</table>\n",
              "</div>\n",
              "      <button class=\"colab-df-convert\" onclick=\"convertToInteractive('df-cc07b3c6-bd46-4b21-bdce-2a45746dfe78')\"\n",
              "              title=\"Convert this dataframe to an interactive table.\"\n",
              "              style=\"display:none;\">\n",
              "        \n",
              "  <svg xmlns=\"http://www.w3.org/2000/svg\" height=\"24px\"viewBox=\"0 0 24 24\"\n",
              "       width=\"24px\">\n",
              "    <path d=\"M0 0h24v24H0V0z\" fill=\"none\"/>\n",
              "    <path d=\"M18.56 5.44l.94 2.06.94-2.06 2.06-.94-2.06-.94-.94-2.06-.94 2.06-2.06.94zm-11 1L8.5 8.5l.94-2.06 2.06-.94-2.06-.94L8.5 2.5l-.94 2.06-2.06.94zm10 10l.94 2.06.94-2.06 2.06-.94-2.06-.94-.94-2.06-.94 2.06-2.06.94z\"/><path d=\"M17.41 7.96l-1.37-1.37c-.4-.4-.92-.59-1.43-.59-.52 0-1.04.2-1.43.59L10.3 9.45l-7.72 7.72c-.78.78-.78 2.05 0 2.83L4 21.41c.39.39.9.59 1.41.59.51 0 1.02-.2 1.41-.59l7.78-7.78 2.81-2.81c.8-.78.8-2.07 0-2.86zM5.41 20L4 18.59l7.72-7.72 1.47 1.35L5.41 20z\"/>\n",
              "  </svg>\n",
              "      </button>\n",
              "      \n",
              "  <style>\n",
              "    .colab-df-container {\n",
              "      display:flex;\n",
              "      flex-wrap:wrap;\n",
              "      gap: 12px;\n",
              "    }\n",
              "\n",
              "    .colab-df-convert {\n",
              "      background-color: #E8F0FE;\n",
              "      border: none;\n",
              "      border-radius: 50%;\n",
              "      cursor: pointer;\n",
              "      display: none;\n",
              "      fill: #1967D2;\n",
              "      height: 32px;\n",
              "      padding: 0 0 0 0;\n",
              "      width: 32px;\n",
              "    }\n",
              "\n",
              "    .colab-df-convert:hover {\n",
              "      background-color: #E2EBFA;\n",
              "      box-shadow: 0px 1px 2px rgba(60, 64, 67, 0.3), 0px 1px 3px 1px rgba(60, 64, 67, 0.15);\n",
              "      fill: #174EA6;\n",
              "    }\n",
              "\n",
              "    [theme=dark] .colab-df-convert {\n",
              "      background-color: #3B4455;\n",
              "      fill: #D2E3FC;\n",
              "    }\n",
              "\n",
              "    [theme=dark] .colab-df-convert:hover {\n",
              "      background-color: #434B5C;\n",
              "      box-shadow: 0px 1px 3px 1px rgba(0, 0, 0, 0.15);\n",
              "      filter: drop-shadow(0px 1px 2px rgba(0, 0, 0, 0.3));\n",
              "      fill: #FFFFFF;\n",
              "    }\n",
              "  </style>\n",
              "\n",
              "      <script>\n",
              "        const buttonEl =\n",
              "          document.querySelector('#df-cc07b3c6-bd46-4b21-bdce-2a45746dfe78 button.colab-df-convert');\n",
              "        buttonEl.style.display =\n",
              "          google.colab.kernel.accessAllowed ? 'block' : 'none';\n",
              "\n",
              "        async function convertToInteractive(key) {\n",
              "          const element = document.querySelector('#df-cc07b3c6-bd46-4b21-bdce-2a45746dfe78');\n",
              "          const dataTable =\n",
              "            await google.colab.kernel.invokeFunction('convertToInteractive',\n",
              "                                                     [key], {});\n",
              "          if (!dataTable) return;\n",
              "\n",
              "          const docLinkHtml = 'Like what you see? Visit the ' +\n",
              "            '<a target=\"_blank\" href=https://colab.research.google.com/notebooks/data_table.ipynb>data table notebook</a>'\n",
              "            + ' to learn more about interactive tables.';\n",
              "          element.innerHTML = '';\n",
              "          dataTable['output_type'] = 'display_data';\n",
              "          await google.colab.output.renderOutput(dataTable, element);\n",
              "          const docLink = document.createElement('div');\n",
              "          docLink.innerHTML = docLinkHtml;\n",
              "          element.appendChild(docLink);\n",
              "        }\n",
              "      </script>\n",
              "    </div>\n",
              "  </div>\n",
              "  "
            ]
          },
          "metadata": {},
          "execution_count": 9
        }
      ],
      "source": [
        "data.head(5)"
      ]
    },
    {
      "cell_type": "code",
      "execution_count": 10,
      "metadata": {
        "colab": {
          "base_uri": "https://localhost:8080/",
          "height": 206
        },
        "id": "ahFDzgRFQbAD",
        "outputId": "07d87405-1409-4bf2-e73c-8d755c50c6de"
      },
      "outputs": [
        {
          "output_type": "execute_result",
          "data": {
            "text/plain": [
              "        Price  Rating                                            Reviews\n",
              "413835  79.95       5                     another great deal great price\n",
              "413836  79.95       3                                                 Ok\n",
              "413837  79.95       5        Passes every drop test onto porcelain tile!\n",
              "413838  79.95       3  I returned it because it did not meet my needs...\n",
              "413839  79.95       4  Only downside is that apparently Verizon no lo..."
            ],
            "text/html": [
              "\n",
              "  <div id=\"df-59ef4850-cbcf-43c7-a492-2badc296392e\">\n",
              "    <div class=\"colab-df-container\">\n",
              "      <div>\n",
              "<style scoped>\n",
              "    .dataframe tbody tr th:only-of-type {\n",
              "        vertical-align: middle;\n",
              "    }\n",
              "\n",
              "    .dataframe tbody tr th {\n",
              "        vertical-align: top;\n",
              "    }\n",
              "\n",
              "    .dataframe thead th {\n",
              "        text-align: right;\n",
              "    }\n",
              "</style>\n",
              "<table border=\"1\" class=\"dataframe\">\n",
              "  <thead>\n",
              "    <tr style=\"text-align: right;\">\n",
              "      <th></th>\n",
              "      <th>Price</th>\n",
              "      <th>Rating</th>\n",
              "      <th>Reviews</th>\n",
              "    </tr>\n",
              "  </thead>\n",
              "  <tbody>\n",
              "    <tr>\n",
              "      <th>413835</th>\n",
              "      <td>79.95</td>\n",
              "      <td>5</td>\n",
              "      <td>another great deal great price</td>\n",
              "    </tr>\n",
              "    <tr>\n",
              "      <th>413836</th>\n",
              "      <td>79.95</td>\n",
              "      <td>3</td>\n",
              "      <td>Ok</td>\n",
              "    </tr>\n",
              "    <tr>\n",
              "      <th>413837</th>\n",
              "      <td>79.95</td>\n",
              "      <td>5</td>\n",
              "      <td>Passes every drop test onto porcelain tile!</td>\n",
              "    </tr>\n",
              "    <tr>\n",
              "      <th>413838</th>\n",
              "      <td>79.95</td>\n",
              "      <td>3</td>\n",
              "      <td>I returned it because it did not meet my needs...</td>\n",
              "    </tr>\n",
              "    <tr>\n",
              "      <th>413839</th>\n",
              "      <td>79.95</td>\n",
              "      <td>4</td>\n",
              "      <td>Only downside is that apparently Verizon no lo...</td>\n",
              "    </tr>\n",
              "  </tbody>\n",
              "</table>\n",
              "</div>\n",
              "      <button class=\"colab-df-convert\" onclick=\"convertToInteractive('df-59ef4850-cbcf-43c7-a492-2badc296392e')\"\n",
              "              title=\"Convert this dataframe to an interactive table.\"\n",
              "              style=\"display:none;\">\n",
              "        \n",
              "  <svg xmlns=\"http://www.w3.org/2000/svg\" height=\"24px\"viewBox=\"0 0 24 24\"\n",
              "       width=\"24px\">\n",
              "    <path d=\"M0 0h24v24H0V0z\" fill=\"none\"/>\n",
              "    <path d=\"M18.56 5.44l.94 2.06.94-2.06 2.06-.94-2.06-.94-.94-2.06-.94 2.06-2.06.94zm-11 1L8.5 8.5l.94-2.06 2.06-.94-2.06-.94L8.5 2.5l-.94 2.06-2.06.94zm10 10l.94 2.06.94-2.06 2.06-.94-2.06-.94-.94-2.06-.94 2.06-2.06.94z\"/><path d=\"M17.41 7.96l-1.37-1.37c-.4-.4-.92-.59-1.43-.59-.52 0-1.04.2-1.43.59L10.3 9.45l-7.72 7.72c-.78.78-.78 2.05 0 2.83L4 21.41c.39.39.9.59 1.41.59.51 0 1.02-.2 1.41-.59l7.78-7.78 2.81-2.81c.8-.78.8-2.07 0-2.86zM5.41 20L4 18.59l7.72-7.72 1.47 1.35L5.41 20z\"/>\n",
              "  </svg>\n",
              "      </button>\n",
              "      \n",
              "  <style>\n",
              "    .colab-df-container {\n",
              "      display:flex;\n",
              "      flex-wrap:wrap;\n",
              "      gap: 12px;\n",
              "    }\n",
              "\n",
              "    .colab-df-convert {\n",
              "      background-color: #E8F0FE;\n",
              "      border: none;\n",
              "      border-radius: 50%;\n",
              "      cursor: pointer;\n",
              "      display: none;\n",
              "      fill: #1967D2;\n",
              "      height: 32px;\n",
              "      padding: 0 0 0 0;\n",
              "      width: 32px;\n",
              "    }\n",
              "\n",
              "    .colab-df-convert:hover {\n",
              "      background-color: #E2EBFA;\n",
              "      box-shadow: 0px 1px 2px rgba(60, 64, 67, 0.3), 0px 1px 3px 1px rgba(60, 64, 67, 0.15);\n",
              "      fill: #174EA6;\n",
              "    }\n",
              "\n",
              "    [theme=dark] .colab-df-convert {\n",
              "      background-color: #3B4455;\n",
              "      fill: #D2E3FC;\n",
              "    }\n",
              "\n",
              "    [theme=dark] .colab-df-convert:hover {\n",
              "      background-color: #434B5C;\n",
              "      box-shadow: 0px 1px 3px 1px rgba(0, 0, 0, 0.15);\n",
              "      filter: drop-shadow(0px 1px 2px rgba(0, 0, 0, 0.3));\n",
              "      fill: #FFFFFF;\n",
              "    }\n",
              "  </style>\n",
              "\n",
              "      <script>\n",
              "        const buttonEl =\n",
              "          document.querySelector('#df-59ef4850-cbcf-43c7-a492-2badc296392e button.colab-df-convert');\n",
              "        buttonEl.style.display =\n",
              "          google.colab.kernel.accessAllowed ? 'block' : 'none';\n",
              "\n",
              "        async function convertToInteractive(key) {\n",
              "          const element = document.querySelector('#df-59ef4850-cbcf-43c7-a492-2badc296392e');\n",
              "          const dataTable =\n",
              "            await google.colab.kernel.invokeFunction('convertToInteractive',\n",
              "                                                     [key], {});\n",
              "          if (!dataTable) return;\n",
              "\n",
              "          const docLinkHtml = 'Like what you see? Visit the ' +\n",
              "            '<a target=\"_blank\" href=https://colab.research.google.com/notebooks/data_table.ipynb>data table notebook</a>'\n",
              "            + ' to learn more about interactive tables.';\n",
              "          element.innerHTML = '';\n",
              "          dataTable['output_type'] = 'display_data';\n",
              "          await google.colab.output.renderOutput(dataTable, element);\n",
              "          const docLink = document.createElement('div');\n",
              "          docLink.innerHTML = docLinkHtml;\n",
              "          element.appendChild(docLink);\n",
              "        }\n",
              "      </script>\n",
              "    </div>\n",
              "  </div>\n",
              "  "
            ]
          },
          "metadata": {},
          "execution_count": 10
        }
      ],
      "source": [
        "data.tail(5)"
      ]
    },
    {
      "cell_type": "code",
      "execution_count": 11,
      "metadata": {
        "colab": {
          "base_uri": "https://localhost:8080/",
          "height": 300
        },
        "id": "jvYZQ4gtQbAD",
        "outputId": "187166b6-91f1-47cd-ebdf-150e23b3cac7"
      },
      "outputs": [
        {
          "output_type": "execute_result",
          "data": {
            "text/plain": [
              "               Price         Rating\n",
              "count  407848.000000  413778.000000\n",
              "mean      226.867148       3.819609\n",
              "std       273.019444       1.548212\n",
              "min         1.730000       1.000000\n",
              "25%        79.990000       3.000000\n",
              "50%       144.710000       5.000000\n",
              "75%       269.990000       5.000000\n",
              "max      2598.000000       5.000000"
            ],
            "text/html": [
              "\n",
              "  <div id=\"df-145234e5-6f66-4140-9ce4-7722461a9aa6\">\n",
              "    <div class=\"colab-df-container\">\n",
              "      <div>\n",
              "<style scoped>\n",
              "    .dataframe tbody tr th:only-of-type {\n",
              "        vertical-align: middle;\n",
              "    }\n",
              "\n",
              "    .dataframe tbody tr th {\n",
              "        vertical-align: top;\n",
              "    }\n",
              "\n",
              "    .dataframe thead th {\n",
              "        text-align: right;\n",
              "    }\n",
              "</style>\n",
              "<table border=\"1\" class=\"dataframe\">\n",
              "  <thead>\n",
              "    <tr style=\"text-align: right;\">\n",
              "      <th></th>\n",
              "      <th>Price</th>\n",
              "      <th>Rating</th>\n",
              "    </tr>\n",
              "  </thead>\n",
              "  <tbody>\n",
              "    <tr>\n",
              "      <th>count</th>\n",
              "      <td>407848.000000</td>\n",
              "      <td>413778.000000</td>\n",
              "    </tr>\n",
              "    <tr>\n",
              "      <th>mean</th>\n",
              "      <td>226.867148</td>\n",
              "      <td>3.819609</td>\n",
              "    </tr>\n",
              "    <tr>\n",
              "      <th>std</th>\n",
              "      <td>273.019444</td>\n",
              "      <td>1.548212</td>\n",
              "    </tr>\n",
              "    <tr>\n",
              "      <th>min</th>\n",
              "      <td>1.730000</td>\n",
              "      <td>1.000000</td>\n",
              "    </tr>\n",
              "    <tr>\n",
              "      <th>25%</th>\n",
              "      <td>79.990000</td>\n",
              "      <td>3.000000</td>\n",
              "    </tr>\n",
              "    <tr>\n",
              "      <th>50%</th>\n",
              "      <td>144.710000</td>\n",
              "      <td>5.000000</td>\n",
              "    </tr>\n",
              "    <tr>\n",
              "      <th>75%</th>\n",
              "      <td>269.990000</td>\n",
              "      <td>5.000000</td>\n",
              "    </tr>\n",
              "    <tr>\n",
              "      <th>max</th>\n",
              "      <td>2598.000000</td>\n",
              "      <td>5.000000</td>\n",
              "    </tr>\n",
              "  </tbody>\n",
              "</table>\n",
              "</div>\n",
              "      <button class=\"colab-df-convert\" onclick=\"convertToInteractive('df-145234e5-6f66-4140-9ce4-7722461a9aa6')\"\n",
              "              title=\"Convert this dataframe to an interactive table.\"\n",
              "              style=\"display:none;\">\n",
              "        \n",
              "  <svg xmlns=\"http://www.w3.org/2000/svg\" height=\"24px\"viewBox=\"0 0 24 24\"\n",
              "       width=\"24px\">\n",
              "    <path d=\"M0 0h24v24H0V0z\" fill=\"none\"/>\n",
              "    <path d=\"M18.56 5.44l.94 2.06.94-2.06 2.06-.94-2.06-.94-.94-2.06-.94 2.06-2.06.94zm-11 1L8.5 8.5l.94-2.06 2.06-.94-2.06-.94L8.5 2.5l-.94 2.06-2.06.94zm10 10l.94 2.06.94-2.06 2.06-.94-2.06-.94-.94-2.06-.94 2.06-2.06.94z\"/><path d=\"M17.41 7.96l-1.37-1.37c-.4-.4-.92-.59-1.43-.59-.52 0-1.04.2-1.43.59L10.3 9.45l-7.72 7.72c-.78.78-.78 2.05 0 2.83L4 21.41c.39.39.9.59 1.41.59.51 0 1.02-.2 1.41-.59l7.78-7.78 2.81-2.81c.8-.78.8-2.07 0-2.86zM5.41 20L4 18.59l7.72-7.72 1.47 1.35L5.41 20z\"/>\n",
              "  </svg>\n",
              "      </button>\n",
              "      \n",
              "  <style>\n",
              "    .colab-df-container {\n",
              "      display:flex;\n",
              "      flex-wrap:wrap;\n",
              "      gap: 12px;\n",
              "    }\n",
              "\n",
              "    .colab-df-convert {\n",
              "      background-color: #E8F0FE;\n",
              "      border: none;\n",
              "      border-radius: 50%;\n",
              "      cursor: pointer;\n",
              "      display: none;\n",
              "      fill: #1967D2;\n",
              "      height: 32px;\n",
              "      padding: 0 0 0 0;\n",
              "      width: 32px;\n",
              "    }\n",
              "\n",
              "    .colab-df-convert:hover {\n",
              "      background-color: #E2EBFA;\n",
              "      box-shadow: 0px 1px 2px rgba(60, 64, 67, 0.3), 0px 1px 3px 1px rgba(60, 64, 67, 0.15);\n",
              "      fill: #174EA6;\n",
              "    }\n",
              "\n",
              "    [theme=dark] .colab-df-convert {\n",
              "      background-color: #3B4455;\n",
              "      fill: #D2E3FC;\n",
              "    }\n",
              "\n",
              "    [theme=dark] .colab-df-convert:hover {\n",
              "      background-color: #434B5C;\n",
              "      box-shadow: 0px 1px 3px 1px rgba(0, 0, 0, 0.15);\n",
              "      filter: drop-shadow(0px 1px 2px rgba(0, 0, 0, 0.3));\n",
              "      fill: #FFFFFF;\n",
              "    }\n",
              "  </style>\n",
              "\n",
              "      <script>\n",
              "        const buttonEl =\n",
              "          document.querySelector('#df-145234e5-6f66-4140-9ce4-7722461a9aa6 button.colab-df-convert');\n",
              "        buttonEl.style.display =\n",
              "          google.colab.kernel.accessAllowed ? 'block' : 'none';\n",
              "\n",
              "        async function convertToInteractive(key) {\n",
              "          const element = document.querySelector('#df-145234e5-6f66-4140-9ce4-7722461a9aa6');\n",
              "          const dataTable =\n",
              "            await google.colab.kernel.invokeFunction('convertToInteractive',\n",
              "                                                     [key], {});\n",
              "          if (!dataTable) return;\n",
              "\n",
              "          const docLinkHtml = 'Like what you see? Visit the ' +\n",
              "            '<a target=\"_blank\" href=https://colab.research.google.com/notebooks/data_table.ipynb>data table notebook</a>'\n",
              "            + ' to learn more about interactive tables.';\n",
              "          element.innerHTML = '';\n",
              "          dataTable['output_type'] = 'display_data';\n",
              "          await google.colab.output.renderOutput(dataTable, element);\n",
              "          const docLink = document.createElement('div');\n",
              "          docLink.innerHTML = docLinkHtml;\n",
              "          element.appendChild(docLink);\n",
              "        }\n",
              "      </script>\n",
              "    </div>\n",
              "  </div>\n",
              "  "
            ]
          },
          "metadata": {},
          "execution_count": 11
        }
      ],
      "source": [
        "data.describe()"
      ]
    },
    {
      "cell_type": "code",
      "execution_count": 12,
      "metadata": {
        "colab": {
          "base_uri": "https://localhost:8080/"
        },
        "id": "REQkvP3DQbAE",
        "outputId": "f0454e78-1bec-4c67-dea7-5a82f0933f68"
      },
      "outputs": [
        {
          "output_type": "stream",
          "name": "stdout",
          "text": [
            "<class 'pandas.core.frame.DataFrame'>\n",
            "Int64Index: 413778 entries, 0 to 413839\n",
            "Data columns (total 3 columns):\n",
            " #   Column   Non-Null Count   Dtype  \n",
            "---  ------   --------------   -----  \n",
            " 0   Price    407848 non-null  float64\n",
            " 1   Rating   413778 non-null  int64  \n",
            " 2   Reviews  413778 non-null  object \n",
            "dtypes: float64(1), int64(1), object(1)\n",
            "memory usage: 12.6+ MB\n"
          ]
        }
      ],
      "source": [
        "data.info()"
      ]
    },
    {
      "cell_type": "markdown",
      "metadata": {
        "id": "rP7RkPKAQbAE"
      },
      "source": [
        "## 3.2 plotting histograms"
      ]
    },
    {
      "cell_type": "code",
      "execution_count": 13,
      "metadata": {
        "colab": {
          "base_uri": "https://localhost:8080/",
          "height": 309
        },
        "id": "8B-yp_LNQbAE",
        "outputId": "56957351-a7f2-4608-e7c9-74eac1ff6ba3"
      },
      "outputs": [
        {
          "output_type": "execute_result",
          "data": {
            "text/plain": [
              "Text(0, 0.5, 'Count')"
            ]
          },
          "metadata": {},
          "execution_count": 13
        },
        {
          "output_type": "display_data",
          "data": {
            "text/plain": [
              "<Figure size 432x288 with 1 Axes>"
            ],
            "image/png": "[encoded data removed]"
          },
          "metadata": {
            "needs_background": "light"
          }
        }
      ],
      "source": [
        "# https://github.com/ipython/ipython/issues/9242\n",
        "warnings.filterwarnings('ignore', category=DeprecationWarning, message='.*use @default decorator instead.*')\n",
        "\n",
        "# Create and print a rating distribution graph.\n",
        "rating_distribution_plt = data.groupby(['Rating']).count().plot(kind='bar', legend=None, title=\"Rating Distribution\")\n",
        "rating_distribution_plt.set_xlabel(\"Rating\")\n",
        "rating_distribution_plt.set_ylabel(\"Count\")"
      ]
    },
    {
      "cell_type": "code",
      "execution_count": 14,
      "metadata": {
        "colab": {
          "base_uri": "https://localhost:8080/",
          "height": 405
        },
        "id": "kvEzxsgrQbAE",
        "outputId": "54115b8e-7d44-4c92-d533-d8630271d820"
      },
      "outputs": [
        {
          "output_type": "execute_result",
          "data": {
            "text/plain": [
              "Text(0, 0.5, 'Count')"
            ]
          },
          "metadata": {},
          "execution_count": 14
        },
        {
          "output_type": "display_data",
          "data": {
            "text/plain": [
              "<Figure size 864x432 with 1 Axes>"
            ],
            "image/png": "[encoded data removed]"
          },
          "metadata": {
            "needs_background": "light"
          }
        }
      ],
      "source": [
        "# Create and print a Reviews length distribution graph.\n",
        "review_length_distribution_plt = pd.DataFrame(data[\"Reviews\"].str.len())\n",
        "review_length_distribution_plt = review_length_distribution_plt[review_length_distribution_plt.Reviews < 5000]\n",
        "review_length_distribution_plt.groupby([\"Reviews\"])\n",
        "review_length_distribution_plt = review_length_distribution_plt.plot(kind='hist', \n",
        "                                                                     legend=None, \n",
        "                                                                     bins=50, \n",
        "                                                                     figsize=(12, 6))\n",
        "review_length_distribution_plt.set_xlabel(\"Review Length\")\n",
        "review_length_distribution_plt.set_ylabel(\"Count\")"
      ]
    },
    {
      "cell_type": "markdown",
      "metadata": {
        "id": "x-wjMcZpQbAE"
      },
      "source": [
        "## 3.3 plotting variables"
      ]
    },
    {
      "cell_type": "code",
      "execution_count": 15,
      "metadata": {
        "colab": {
          "base_uri": "https://localhost:8080/",
          "height": 518
        },
        "id": "GIxyEG6CQbAE",
        "outputId": "12af4726-9d86-41f0-c674-a9734dab2aa2"
      },
      "outputs": [
        {
          "output_type": "display_data",
          "data": {
            "text/plain": [
              "<Figure size 576x576 with 1 Axes>"
            ],
            "image/png": "[encoded data removed]"
          },
          "metadata": {}
        }
      ],
      "source": [
        "# Pie chart, where the slices will be ordered and plotted counter-clockwise:\n",
        "labels = [f'{k} ({data[\"Rating\"].value_counts()[k]} samples)' for k in data['Rating'].value_counts().keys()]\n",
        "sizes = dict(data['Rating'].value_counts()).values()\n",
        "\n",
        "fig1, ax1 = plt.subplots(figsize=(8,8))\n",
        "ax1.pie(sizes, labels=labels, autopct='%1.1f%%',\n",
        "        shadow=True, startangle=90)\n",
        "ax1.axis('equal')  # Equal aspect ratio ensures that pie is drawn as a circle.\n",
        "ax1.set_title(\"Distribution of ratings in reviews\",pad=40, fontweight='bold', fontsize=15)\n",
        "plt.show();"
      ]
    },
    {
      "cell_type": "code",
      "execution_count": 16,
      "metadata": {
        "colab": {
          "base_uri": "https://localhost:8080/",
          "height": 352
        },
        "id": "Q-R3F1pAQbAE",
        "outputId": "b5895b1a-679e-4af8-ed36-14fcd11089a2"
      },
      "outputs": [
        {
          "output_type": "display_data",
          "data": {
            "text/plain": [
              "<Figure size 720x360 with 1 Axes>"
            ],
            "image/png": "[encoded data removed]"
          },
          "metadata": {
            "needs_background": "light"
          }
        }
      ],
      "source": [
        "import matplotlib.pyplot as plt\n",
        "%matplotlib inline\n",
        "import seaborn as sns\n",
        "import warnings\n",
        "warnings.filterwarnings(\"ignore\")\n",
        "\n",
        "plt.figure(figsize=(10,5))\n",
        "sns.countplot(data['Rating'], palette=sns.color_palette(\"RdYlGn\", 5))\n",
        "plt.title(\"Distribution of Ratings across the entire dataset\", fontweight='bold', fontsize=15)\n",
        "plt.xlabel(\"Ratings of Reviews\")\n",
        "plt.ylabel(\"Number of reviews corresponding to each of 5 ratings\")\n",
        "plt.show();"
      ]
    },
    {
      "cell_type": "markdown",
      "metadata": {
        "id": "gV_JeE_tQbAE"
      },
      "source": []
    },
    {
      "cell_type": "markdown",
      "metadata": {
        "id": "2rNryi_-QbAE"
      },
      "source": [
        "## 3.4 correlation analysis"
      ]
    },
    {
      "cell_type": "code",
      "execution_count": 17,
      "metadata": {
        "colab": {
          "base_uri": "https://localhost:8080/",
          "height": 279
        },
        "id": "A9dNCDX1QbAE",
        "outputId": "d2491d2e-3703-4bad-e517-149e2b86099d"
      },
      "outputs": [
        {
          "output_type": "display_data",
          "data": {
            "text/plain": [
              "<Figure size 432x288 with 2 Axes>"
            ],
            "image/png": "[encoded data removed]"
          },
          "metadata": {
            "needs_background": "light"
          }
        }
      ],
      "source": [
        "fig, ax =plt.subplots(1,2)\n",
        "sns.kdeplot(data['Rating'],shade=True,color=\"purple\",ax=ax[0])\n",
        "sns.kdeplot(data['Price'],shade=True,color=\"blue\",ax=ax[1])\n",
        "fig.show()"
      ]
    },
    {
      "cell_type": "code",
      "execution_count": 18,
      "metadata": {
        "id": "1SZyhp-cQbAE"
      },
      "outputs": [],
      "source": [
        "Expensive=data[data['Price']>250]\n",
        "N_Expensive=data[data['Price']<250]"
      ]
    },
    {
      "cell_type": "code",
      "execution_count": 19,
      "metadata": {
        "colab": {
          "base_uri": "https://localhost:8080/"
        },
        "id": "NzUaxsR3QbAF",
        "outputId": "ab17ed09-dca7-4b69-91a9-71990714d08f"
      },
      "outputs": [
        {
          "output_type": "execute_result",
          "data": {
            "text/plain": [
              "110641"
            ]
          },
          "metadata": {},
          "execution_count": 19
        }
      ],
      "source": [
        "len(Expensive)"
      ]
    },
    {
      "cell_type": "code",
      "execution_count": 20,
      "metadata": {
        "colab": {
          "base_uri": "https://localhost:8080/"
        },
        "id": "OteBNLwqQbAF",
        "outputId": "ba5b9c08-3c48-43a1-d6d4-3427c235ced4"
      },
      "outputs": [
        {
          "output_type": "execute_result",
          "data": {
            "text/plain": [
              "296624"
            ]
          },
          "metadata": {},
          "execution_count": 20
        }
      ],
      "source": [
        "len(N_Expensive)"
      ]
    },
    {
      "cell_type": "code",
      "execution_count": 21,
      "metadata": {
        "colab": {
          "base_uri": "https://localhost:8080/"
        },
        "id": "I9448f_RQbAF",
        "outputId": "314226ab-9aa3-49ed-e8a3-f759e7264ce0"
      },
      "outputs": [
        {
          "output_type": "execute_result",
          "data": {
            "text/plain": [
              "27.166832406418422"
            ]
          },
          "metadata": {},
          "execution_count": 21
        }
      ],
      "source": [
        "(len(Expensive)/float(len(Expensive)+len(N_Expensive)))*100"
      ]
    },
    {
      "cell_type": "code",
      "execution_count": 22,
      "metadata": {
        "colab": {
          "base_uri": "https://localhost:8080/",
          "height": 296
        },
        "id": "SlSrZbopQbAF",
        "outputId": "19d8d959-cfda-4eb3-b960-bccf53e19ce4"
      },
      "outputs": [
        {
          "output_type": "execute_result",
          "data": {
            "text/plain": [
              "<matplotlib.axes._subplots.AxesSubplot at 0x7febb6ab23d0>"
            ]
          },
          "metadata": {},
          "execution_count": 22
        },
        {
          "output_type": "display_data",
          "data": {
            "text/plain": [
              "<Figure size 432x288 with 1 Axes>"
            ],
            "image/png": "[encoded data removed]"
          },
          "metadata": {
            "needs_background": "light"
          }
        }
      ],
      "source": [
        "sns.kdeplot(Expensive['Price'],shade=True,color=\"red\")"
      ]
    },
    {
      "cell_type": "code",
      "execution_count": 23,
      "metadata": {
        "colab": {
          "base_uri": "https://localhost:8080/",
          "height": 296
        },
        "id": "QEPZcFwNQbAF",
        "outputId": "46d77e6c-9b39-4f46-d34a-e93fde20e49e"
      },
      "outputs": [
        {
          "output_type": "execute_result",
          "data": {
            "text/plain": [
              "<matplotlib.axes._subplots.AxesSubplot at 0x7febb6a81c40>"
            ]
          },
          "metadata": {},
          "execution_count": 23
        },
        {
          "output_type": "display_data",
          "data": {
            "text/plain": [
              "<Figure size 432x288 with 1 Axes>"
            ],
            "image/png": "[encoded data removed]"
          },
          "metadata": {
            "needs_background": "light"
          }
        }
      ],
      "source": [
        "sns.kdeplot(N_Expensive['Price'],shade=True,color=\"green\")"
      ]
    },
    {
      "cell_type": "markdown",
      "metadata": {
        "id": "WJhSbBFnQbAF"
      },
      "source": [
        "Overall , It could be infered that pricing has not much effect on the ratings of phones."
      ]
    },
    {
      "cell_type": "code",
      "execution_count": 24,
      "metadata": {
        "id": "AWuCy05QQbAF"
      },
      "outputs": [],
      "source": [
        "data.drop(['Price'], axis = 1, inplace = True)"
      ]
    },
    {
      "cell_type": "markdown",
      "metadata": {
        "id": "ctvSBMkyQbAF"
      },
      "source": [
        "## 3.5 Observation"
      ]
    },
    {
      "cell_type": "markdown",
      "metadata": {
        "id": "j8-07CjyQbAF"
      },
      "source": [
        "Observation:\n",
        "\n",
        "-68 percent of the reviews in the dataset are positive reviews having ratings >3 (4 and 5)\n",
        "\n",
        "-23 percent of the reviews in the dataset are negative reviews having ratings <3 (1 and 2)\n",
        "\n",
        "-Remaining 8 percent reviews have a rating of 3.\n",
        "\n",
        "Since a major portion of the reviews are positive, we can say that most of the users have a good experience with their purchases.\n"
      ]
    },
    {
      "cell_type": "markdown",
      "metadata": {
        "id": "N3k_m9G5QbAF"
      },
      "source": [
        "## 3.6 Feature Extraction"
      ]
    },
    {
      "cell_type": "code",
      "execution_count": 25,
      "metadata": {
        "id": "HHtgv9oxQbAF"
      },
      "outputs": [],
      "source": [
        "vectorizer = TfidfVectorizer(\n",
        "        min_df=2,               # Ignore phrases that are in fewer than 2 reviews\n",
        "        max_df=0.95,            # Ignore phrases that are in 95% of reviews\n",
        "        ngram_range = (1,4),    # Take phrases between 1 and 4 words\n",
        "        stop_words = 'english', # Remove common English words\n",
        "        # max_features = 300    # The max features amount of features. Set this to \n",
        "                                # something small when getting most relevant phrases to \n",
        "                                # prevent crases (We have to do some array conversions which \n",
        "                                # take a lot of memory)\n",
        "        )\n",
        "\n",
        "# Extract features from reviews.\n",
        "review_features = vectorizer.fit_transform(reviews)"
      ]
    },
    {
      "cell_type": "markdown",
      "metadata": {
        "id": "I8Tfm54VQbAG"
      },
      "source": [
        "### Get most relevant  phrases"
      ]
    },
    {
      "cell_type": "code",
      "execution_count": 26,
      "metadata": {
        "id": "wk89gJYRQbAG"
      },
      "outputs": [],
      "source": [
        "def get_most_relevant_phrases():\n",
        "    # Convert features into an array\n",
        "    feature_array = np.array(vectorizer.get_feature_names()) \n",
        "    \n",
        "    # Sort features by weight.\n",
        "    tfidf_sorting = np.argsort(review_features.toarray()).flatten()[::-1]\n",
        "    \n",
        "    # Get the top eight most weighted features.\n",
        "    top_n = feature_array[tfidf_sorting][:8]\n",
        "    return top_n"
      ]
    },
    {
      "cell_type": "code",
      "execution_count": 27,
      "metadata": {
        "id": "6IS2a0gFQbAG"
      },
      "outputs": [],
      "source": [
        "# It's important not to run this unless you set max_features in TfidfVectorizer to something small. \n",
        "# The array conversions can take a lot of memory.\n",
        "# print get_most_relevant_phrases()"
      ]
    },
    {
      "cell_type": "markdown",
      "metadata": {
        "id": "l_dJZlVFQbAG"
      },
      "source": [
        "## Train/Test Split"
      ]
    },
    {
      "cell_type": "code",
      "execution_count": 28,
      "metadata": {
        "colab": {
          "base_uri": "https://localhost:8080/"
        },
        "id": "VIkdMbbrQbAG",
        "outputId": "cdda4e59-eaf1-4c21-c954-d9208afc1601"
      },
      "outputs": [
        {
          "output_type": "stream",
          "name": "stdout",
          "text": [
            "(289644, 3553748)\n"
          ]
        }
      ],
      "source": [
        "X_train, X_test, y_train, y_test = model_selection.train_test_split(\n",
        "                                            review_features,   # The features we created from the reviews\n",
        "                                            ratings,           # The ratings we are trying to predict\n",
        "                                            stratify=ratings,  # We have an imbalance of 5-star reviews, so let's stratify\n",
        "                                            random_state = 12, # Random seed\n",
        "                                            test_size = 0.3    # We need to save 30% of the data for testing\n",
        "                                            )\n",
        "print (X_train.shape)"
      ]
    },
    {
      "cell_type": "markdown",
      "metadata": {
        "id": "khVvFbXhQbAG"
      },
      "source": [
        "## Get example reviews"
      ]
    },
    {
      "cell_type": "code",
      "execution_count": 29,
      "metadata": {
        "colab": {
          "base_uri": "https://localhost:8080/"
        },
        "id": "nJhL9ga1QbAG",
        "outputId": "b8df4c98-06e8-40c6-d31d-31235ce2ecd9"
      },
      "outputs": [
        {
          "output_type": "stream",
          "name": "stdout",
          "text": [
            "|Rating|Reviews|\n",
            "|---|---|\n",
            "|5|Excellent product! It's working in Chile with Argentinian and Italian SIM cards. Very good battery life (almost 7 days with regular use).|\n",
            "|4|Purchased this phone for my son after breaking his iphone. We're pleased with the RCA and he hasn't had any issues with the phone, usage or connectivity and we're on the AT&T network.|\n",
            "|4|My daughter loves her new phone.|\n",
            "|2|Stopped working after 6 days. Amazon refunded money with no issues.|\n",
            "|1|No lo recomiendo. No funciona en Venezuela. No viene con idioma español solo ingles y francés.Not recommend. Does not work in Venezuela.|\n",
            "|3|I love the keyboard on the phone/and wifi, but the volume is not that great and earpiece did not work with phone.|\n"
          ]
        }
      ],
      "source": [
        "# Find a random set of reviews so we can see how each model performs on it.\n",
        "example_review_set = pd.DataFrame(y_test[191:197].index).join(data, on=0)\n",
        "print(pandas_df_to_markdown_table(example_review_set[['Rating','Reviews']]))"
      ]
    },
    {
      "cell_type": "markdown",
      "metadata": {
        "id": "g6vhdoP3QbAG"
      },
      "source": [
        "#4 Final Analysis/ Model building\n",
        "\n",
        "We used wo models in particular to analyze the dataset to predict the neumeric star rating of the amazon reviews which are in catergorical form in the comments.\n",
        "\n",
        "- Logistic Regression\n",
        "- Multinomial Naive Bayes"
      ]
    },
    {
      "cell_type": "markdown",
      "metadata": {
        "id": "3FPP9RN6QbAG"
      },
      "source": [
        "### Logistic Regression model"
      ]
    },
    {
      "cell_type": "markdown",
      "metadata": {
        "id": "1MHMUOPzQbAG"
      },
      "source": [
        "\n",
        "➢Logistic regression is the appropriate regression analysis to conduct when the dependent variable is binary.  \n",
        "➢Like all regression analyses, the logistic regression is a predictive analysis.  \n",
        "➢Logistic regression is used to describe data and to explain the relationship between one dependent binary variable and one or more nominal, ordinal, interval or ratio-level independent variables.\n",
        "➢Sometimes logistic regressions are difficult to interpret; the Intellectus Statistics tool easily allows you to conduct the analysis, then in plain English interprets the output.\n"
      ]
    },
    {
      "cell_type": "code",
      "execution_count": 30,
      "metadata": {
        "colab": {
          "base_uri": "https://localhost:8080/"
        },
        "id": "JSvJ5siaQbAG",
        "outputId": "8f96ef20-34a6-4c16-8d48-799b02cb4f66"
      },
      "outputs": [
        {
          "output_type": "stream",
          "name": "stderr",
          "text": [
            "/usr/local/lib/python3.8/dist-packages/sklearn/linear_model/_logistic.py:814: ConvergenceWarning: lbfgs failed to converge (status=1):\n",
            "STOP: TOTAL NO. of ITERATIONS REACHED LIMIT.\n",
            "\n",
            "Increase the number of iterations (max_iter) or scale the data as shown in:\n",
            "    https://scikit-learn.org/stable/modules/preprocessing.html\n",
            "Please also refer to the documentation for alternative solver options:\n",
            "    https://scikit-learn.org/stable/modules/linear_model.html#logistic-regression\n",
            "  n_iter_i = _check_optimize_result(\n"
          ]
        },
        {
          "output_type": "stream",
          "name": "stdout",
          "text": [
            "              precision    recall  f1-score   support\n",
            "\n",
            "           1     0.7384    0.8967    0.8099     21701\n",
            "           2     0.8301    0.3069    0.4481      7417\n",
            "           3     0.7405    0.3710    0.4943      9529\n",
            "           4     0.6828    0.3844    0.4919     18412\n",
            "           5     0.8070    0.9613    0.8774     67075\n",
            "\n",
            "    accuracy                         0.7800    124134\n",
            "   macro avg     0.7597    0.5840    0.6243    124134\n",
            "weighted avg     0.7729    0.7800    0.7534    124134\n",
            "\n"
          ]
        }
      ],
      "source": [
        "clf_benchmark = LogisticRegression(random_state=22).fit(X_train, y_train)\n",
        "print( classification_report(y_test, clf_benchmark.predict(X_test), digits=4))"
      ]
    },
    {
      "cell_type": "markdown",
      "metadata": {
        "id": "1X3KZ-jqQbAG"
      },
      "source": [
        "### MultinomialNB model"
      ]
    },
    {
      "cell_type": "markdown",
      "metadata": {
        "id": "fUHLlZUjQbAG"
      },
      "source": [
        "➢Multinomial Naive Bayes classification algorithm tends to be a baseline solution for sentiment analysis task. \n",
        "\n",
        "➢The basic idea of Naive Bayes technique is to find the probabilities of classes assigned to texts by using the joint probabilities of words and classes."
      ]
    },
    {
      "cell_type": "code",
      "execution_count": 31,
      "metadata": {
        "colab": {
          "base_uri": "https://localhost:8080/"
        },
        "id": "Lw71hdUmQbAG",
        "outputId": "c8cf093b-0ba1-4f7a-d895-07f841935278"
      },
      "outputs": [
        {
          "output_type": "stream",
          "name": "stdout",
          "text": [
            "              precision    recall  f1-score   support\n",
            "\n",
            "           1     0.8839    0.7198    0.7934     21701\n",
            "           2     0.9990    0.1302    0.2304      7417\n",
            "           3     0.9976    0.1322    0.2335      9529\n",
            "           4     0.9982    0.1770    0.3007     18412\n",
            "           5     0.6637    0.9991    0.7976     67075\n",
            "\n",
            "    accuracy                         0.7099    124134\n",
            "   macro avg     0.9085    0.4317    0.4711    124134\n",
            "weighted avg     0.7975    0.7099    0.6460    124134\n",
            "\n"
          ]
        }
      ],
      "source": [
        "clf_NB = MultinomialNB()\n",
        "clf_NB.fit(X_train, y_train)\n",
        "print( classification_report(y_test, clf_NB.predict(X_test), digits=4))"
      ]
    },
    {
      "cell_type": "markdown",
      "metadata": {
        "id": "t1TcvTPaQbAG"
      },
      "source": [
        "### Refinement "
      ]
    },
    {
      "cell_type": "markdown",
      "metadata": {
        "id": "NgC5hkF_QbAG"
      },
      "source": [
        "The alpha paramter determines what value we give the when we see a feature that we haven’t encountered in the testing data. We can’t use 0 because MultinomialNB multiplies these probabilities together and our whole prediction becomes 0. For example, if we find a 5-star review with a single word that we’ve never seen in a 5-star review before we don’t want our prediction to be 0."
      ]
    },
    {
      "cell_type": "code",
      "execution_count": 32,
      "metadata": {
        "colab": {
          "base_uri": "https://localhost:8080/"
        },
        "id": "a0b5k2L_QbAH",
        "outputId": "8c5e8191-910f-464b-dc35-58fbe738a995"
      },
      "outputs": [
        {
          "output_type": "execute_result",
          "data": {
            "text/plain": [
              "GridSearchCV(estimator=MultinomialNB(),\n",
              "             param_grid={'alpha': [0.1, 0.25, 0.5, 0.75, 1.0, 1.25, 1.5, 1.75,\n",
              "                                   2]})"
            ]
          },
          "metadata": {},
          "execution_count": 32
        }
      ],
      "source": [
        "parameters = { 'alpha': [0.1, 0.25, 0.5, 0.75, 1.0, 1.25, 1.5, 1.75, 2] }\n",
        "clf_NB_refined = GridSearchCV(MultinomialNB(), parameters)\n",
        "clf_NB_refined.fit(X_train, y_train)"
      ]
    },
    {
      "cell_type": "code",
      "execution_count": 33,
      "metadata": {
        "colab": {
          "base_uri": "https://localhost:8080/"
        },
        "id": "P9tyAXPdQbAH",
        "outputId": "c16e75b8-f6c7-4924-9f59-cba5840892ea"
      },
      "outputs": [
        {
          "output_type": "execute_result",
          "data": {
            "text/plain": [
              "{'alpha': 0.1}"
            ]
          },
          "metadata": {},
          "execution_count": 33
        }
      ],
      "source": [
        "# Print out the parameters GridSearchCV decided on.\n",
        "clf_NB_refined.best_params_"
      ]
    },
    {
      "cell_type": "markdown",
      "metadata": {
        "id": "Pt_SIIC2QbAH"
      },
      "source": [
        "# 5 Evaluating the results"
      ]
    },
    {
      "cell_type": "markdown",
      "metadata": {
        "id": "k_js3w__QbAH"
      },
      "source": [
        "### Accuracy and F1-Scores"
      ]
    },
    {
      "cell_type": "code",
      "execution_count": 34,
      "metadata": {
        "scrolled": false,
        "colab": {
          "base_uri": "https://localhost:8080/"
        },
        "id": "epE6iShdQbAH",
        "outputId": "dca6e895-0892-462f-d270-68b6eba997c5"
      },
      "outputs": [
        {
          "output_type": "stream",
          "name": "stdout",
          "text": [
            "\n",
            "Accuracy: \n",
            "LogisticRegression: 0.7800280342210837\n",
            "MultinomialNB:      0.849299950053974\n",
            "\n",
            "classification reports: \n",
            "LogisticRegression: \n",
            "              precision    recall  f1-score   support\n",
            "\n",
            "           1     0.7384    0.8967    0.8099     21701\n",
            "           2     0.8301    0.3069    0.4481      7417\n",
            "           3     0.7405    0.3710    0.4943      9529\n",
            "           4     0.6828    0.3844    0.4919     18412\n",
            "           5     0.8070    0.9613    0.8774     67075\n",
            "\n",
            "    accuracy                         0.7800    124134\n",
            "   macro avg     0.7597    0.5840    0.6243    124134\n",
            "weighted avg     0.7729    0.7800    0.7534    124134\n",
            "\n",
            "MultinomialNB: \n",
            "              precision    recall  f1-score   support\n",
            "\n",
            "           1     0.8570    0.9093    0.8824     21701\n",
            "           2     0.9379    0.6024    0.7336      7417\n",
            "           3     0.8819    0.5949    0.7105      9529\n",
            "           4     0.8536    0.5524    0.6707     18412\n",
            "           5     0.8383    0.9748    0.9014     67075\n",
            "\n",
            "    accuracy                         0.8493    124134\n",
            "   macro avg     0.8737    0.7268    0.7797    124134\n",
            "weighted avg     0.8531    0.8493    0.8392    124134\n",
            "\n"
          ]
        }
      ],
      "source": [
        "print(\"\\nAccuracy: \")\n",
        "print( \"LogisticRegression: \" + repr(accuracy_score(y_test, clf_benchmark.predict(X_test))) )\n",
        "print( \"MultinomialNB:      \" + repr(accuracy_score(y_test, clf_NB_refined.predict(X_test))) )\n",
        "#print( \"SGDClassifier:      \" + repr(accuracy_score(y_test, clf_SGD_refined.predict(X_test))) )\n",
        "\n",
        "print(\"\\nclassification reports: \")\n",
        "print( \"LogisticRegression: \" )\n",
        "print( classification_report(y_test, clf_benchmark.predict(X_test), digits=4))\n",
        "print( \"MultinomialNB: \" ) \n",
        "print( classification_report(y_test, clf_NB_refined.predict(X_test), digits=4))\n"
      ]
    },
    {
      "cell_type": "markdown",
      "metadata": {
        "id": "eezzG3l6QbAH"
      },
      "source": [
        "### Performance on example reviews"
      ]
    },
    {
      "cell_type": "code",
      "execution_count": 35,
      "metadata": {
        "colab": {
          "base_uri": "https://localhost:8080/"
        },
        "id": "gW8s_AQoQbAH",
        "outputId": "8444825c-2baf-4ee0-8f42-e3383e9804d4"
      },
      "outputs": [
        {
          "output_type": "stream",
          "name": "stderr",
          "text": [
            "<ipython-input-35-535ab0a601ff>:5: FutureWarning: arrays to stack must be passed as a \"sequence\" type such as list or tuple. Support for non-sequence iterables such as generators is deprecated as of NumPy 1.16 and will raise an error in the future.\n",
            "  predicted_ratings_0 = np.hstack(map(clf_benchmark.predict, example_reviews_features))\n",
            "<ipython-input-35-535ab0a601ff>:6: FutureWarning: arrays to stack must be passed as a \"sequence\" type such as list or tuple. Support for non-sequence iterables such as generators is deprecated as of NumPy 1.16 and will raise an error in the future.\n",
            "  predicted_ratings_1 = np.hstack(map(clf_NB_refined.predict, example_reviews_features))\n"
          ]
        },
        {
          "output_type": "stream",
          "name": "stdout",
          "text": [
            "|Rating|LR|MNB|Review|\n",
            "|---|---|---|---|\n",
            "|5|5|5|Excellent product! It's working in Chile with Arge...|\n",
            "|4|5|5|Purchased this phone for my son after breaking his...|\n",
            "|4|5|5|My daughter loves her new phone.|\n",
            "|2|2|2|Stopped working after 6 days. Amazon refunded mone...|\n",
            "|1|5|5|No lo recomiendo. No funciona en Venezuela. No vie...|\n",
            "|3|3|4|I love the keyboard on the phone/and wifi, but the...|\n"
          ]
        }
      ],
      "source": [
        "# Create features on the example reviews.\n",
        "example_reviews_features = vectorizer.transform(example_review_set.Reviews)\n",
        "\n",
        "# Predict the reviews with each model.\n",
        "predicted_ratings_0 = np.hstack(map(clf_benchmark.predict, example_reviews_features))\n",
        "predicted_ratings_1 = np.hstack(map(clf_NB_refined.predict, example_reviews_features))\n",
        "\n",
        "\n",
        "# We don't need to print the whole review out; just enough to compare to the first table.\n",
        "def shorten_text(x):\n",
        "    length = 50\n",
        "    r = x[:length]\n",
        "    if len(x) > length:\n",
        "        r = r + \"...\"\n",
        "    return r\n",
        "\n",
        "# Create a table of reviews.\n",
        "example_review_table = pd.DataFrame( { \n",
        "              'Rating': example_review_set.Rating,\n",
        "              'LR': predicted_ratings_0,\n",
        "              'MNB': predicted_ratings_1,\n",
        "              'Review': map(shorten_text, example_review_set.Reviews)\n",
        "              }\n",
        "            )\n",
        "\n",
        "# Reorder columns.\n",
        "example_review_table = example_review_table[['Rating', 'LR','MNB', 'Review']]\n",
        "\n",
        "# Print reviews in a markdown table.\n",
        "print (pandas_df_to_markdown_table(example_review_table))"
      ]
    },
    {
      "cell_type": "markdown",
      "metadata": {
        "id": "kG9peCUUQbAH"
      },
      "source": [
        "### Confusion Matrices"
      ]
    },
    {
      "cell_type": "code",
      "execution_count": 36,
      "metadata": {
        "id": "pNb7ze-lQbAH"
      },
      "outputs": [],
      "source": [
        "# A function to help create confusion matrices.\n",
        "# http://scikit-learn.org/stable/auto_examples/model_selection/plot_confusion_matrix.html\n",
        "def plot_confusion_matrix(cm, title='Confusion matrix', cmap=plt.cm.Blues):\n",
        "    plt.figure( figsize=(9,4), facecolor='white')\n",
        "    plt.imshow(cm, interpolation='nearest', cmap=cmap)\n",
        "    plt.title(title)\n",
        "    plt.colorbar()\n",
        "    tick_marks = np.arange(len(set(ratings)))\n",
        "    plt.xticks(tick_marks, set(ratings), rotation=45)\n",
        "    plt.yticks(tick_marks, set(ratings))\n",
        "    plt.tight_layout()\n",
        "    plt.ylabel('True label')\n",
        "    plt.xlabel('Predicted label')"
      ]
    },
    {
      "cell_type": "code",
      "execution_count": 37,
      "metadata": {
        "id": "tn5D4dMsQbAH"
      },
      "outputs": [],
      "source": [
        "# A function to create and print confusion matrix.\n",
        "def create_and_print_confusion_matrix(y_test, predicted, title):\n",
        "    cm = confusion_matrix(y_test, predicted)\n",
        "    np.set_printoptions(precision=2)\n",
        "    plt.figure()\n",
        "    plot_confusion_matrix(cm, title) \n",
        "    plt.show()"
      ]
    },
    {
      "cell_type": "code",
      "execution_count": 38,
      "metadata": {
        "colab": {
          "base_uri": "https://localhost:8080/",
          "height": 328
        },
        "id": "HZvZXwviQbAH",
        "outputId": "c2ab8b3b-713f-4c80-d7c1-4b2b23e7e3aa"
      },
      "outputs": [
        {
          "output_type": "display_data",
          "data": {
            "text/plain": [
              "<Figure size 432x288 with 0 Axes>"
            ]
          },
          "metadata": {}
        },
        {
          "output_type": "display_data",
          "data": {
            "text/plain": [
              "<Figure size 648x288 with 2 Axes>"
            ],
            "image/png": "[encoded data removed]"
          },
          "metadata": {}
        }
      ],
      "source": [
        "# Create logistic regression confusion matrix.\n",
        "create_and_print_confusion_matrix(y_test, clf_benchmark.predict(X_test), \"LogisticRegression\")"
      ]
    },
    {
      "cell_type": "code",
      "execution_count": 39,
      "metadata": {
        "colab": {
          "base_uri": "https://localhost:8080/",
          "height": 328
        },
        "id": "iPXcCfUiQbAH",
        "outputId": "a8c7a461-29b6-41c9-ab0f-f07546aaf877"
      },
      "outputs": [
        {
          "output_type": "display_data",
          "data": {
            "text/plain": [
              "<Figure size 432x288 with 0 Axes>"
            ]
          },
          "metadata": {}
        },
        {
          "output_type": "display_data",
          "data": {
            "text/plain": [
              "<Figure size 648x288 with 2 Axes>"
            ],
            "image/png": "[encoded data removed]"
          },
          "metadata": {}
        }
      ],
      "source": [
        "# Create MultinomialNB confusion matrix.\n",
        "create_and_print_confusion_matrix(y_test, clf_NB_refined.predict(X_test),\"MultinomialNB\")"
      ]
    },
    {
      "cell_type": "markdown",
      "metadata": {
        "id": "sgRSmydQQbAH"
      },
      "source": [
        "# 6 Summary"
      ]
    },
    {
      "cell_type": "markdown",
      "metadata": {
        "id": "oKMW1CIHQbAI"
      },
      "source": [
        "\n",
        "The final stochastic gradient descent learning model (MultinomialNB) has a F1-Score of 0.8392, this is much better than the benchmark model which has a score of 0.7534. We can observe these from results.\n",
        "\n",
        "\n",
        "We can see that the classifiers have a hard time differentiating between 4 and 5 star reviews and 2 and 1 star reviews. One of the reviews has Spanish words, almost all the reviews are English so it’s not surprising that that all three classifier got that predictions wrong.\n",
        "The final model does a good job of finding the general sentiment of a review. If you want to determine if a review is positive or negative, then this model is probably good enough. If you want a model that can differentiate between similar star ratings (like 3-star and 4-star reviews), then more work needs to be done."
      ]
    },
    {
      "cell_type": "markdown",
      "metadata": {
        "id": "rxRr3rMEQbAI"
      },
      "source": [
        "## 6.1 Improvements"
      ]
    },
    {
      "cell_type": "markdown",
      "metadata": {
        "id": "YeNcqR3KQbAI"
      },
      "source": [
        "All two models have low recall on reviews with star ratings between 2 and 4. Even for a human, it’s difficult to differentiate between these reviews. The difference between a 3-star and 4-star review is very subtle. A good place to look for improvements are ways to improve recall for these mid-star reviews.\n",
        "A solution not explored in this report is a neural network. Many people have found success using neural networks for text classification problems. A good candidate would be the use of the Keras9 python library. Keras neural network library that would be useful in building a neural network model to predict ratings."
      ]
    },
    {
      "cell_type": "code",
      "execution_count": null,
      "metadata": {
        "id": "9sRls8nyQbAI"
      },
      "outputs": [],
      "source": []
    }
  ],
  "metadata": {
    "anaconda-cloud": {},
    "kernelspec": {
      "display_name": "Python 3 (ipykernel)",
      "language": "python",
      "name": "python3"
    },
    "language_info": {
      "codemirror_mode": {
        "name": "ipython",
        "version": 3
      },
      "file_extension": ".py",
      "mimetype": "text/x-python",
      "name": "python",
      "nbconvert_exporter": "python",
      "pygments_lexer": "ipython3",
      "version": "3.9.13"
    },
    "colab": {
      "provenance": [],
      "toc_visible": true
    }
  },
  "nbformat": 4,
  "nbformat_minor": 0
}